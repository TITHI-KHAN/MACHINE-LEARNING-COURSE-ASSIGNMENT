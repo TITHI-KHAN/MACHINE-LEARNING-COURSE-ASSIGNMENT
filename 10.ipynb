{
  "nbformat": 4,
  "nbformat_minor": 0,
  "metadata": {
    "colab": {
      "provenance": []
    },
    "kernelspec": {
      "name": "python3",
      "display_name": "Python 3"
    },
    "language_info": {
      "name": "python"
    }
  },
  "cells": [
    {
      "cell_type": "markdown",
      "source": [
        "Print the following pattern using for and while loop.\n",
        "# # #\n",
        "# # # #\n",
        "# # #\n",
        "# #"
      ],
      "metadata": {
        "id": "jDznM9TRx2AG"
      }
    },
    {
      "cell_type": "code",
      "source": [
        "for i in range(1, 5):\n",
        "    if i == 1 or i == 3:\n",
        "        print(\"# # #\")\n",
        "    elif i==2:\n",
        "        print(\"# # # #\")\n",
        "    else:\n",
        "        print(\"##\")"
      ],
      "metadata": {
        "colab": {
          "base_uri": "https://localhost:8080/"
        },
        "id": "mRkDyzvMyJGW",
        "outputId": "24536029-5c65-4328-bc0f-5312aadf6c1c"
      },
      "execution_count": 4,
      "outputs": [
        {
          "output_type": "stream",
          "name": "stdout",
          "text": [
            "# # #\n",
            "# # # #\n",
            "# # #\n",
            "##\n"
          ]
        }
      ]
    },
    {
      "cell_type": "code",
      "source": [
        "i=1\n",
        "while i<5:\n",
        "  if i == 1 or i == 3:\n",
        "        print(\"# # #\")\n",
        "  elif i==2:\n",
        "        print(\"# # # #\")\n",
        "  else:\n",
        "        print(\"##\")\n",
        "  i=i+1"
      ],
      "metadata": {
        "colab": {
          "base_uri": "https://localhost:8080/"
        },
        "id": "SWB1UxpJy29I",
        "outputId": "5bbc87ad-2a29-47a4-b40d-08a6612ac1d6"
      },
      "execution_count": 8,
      "outputs": [
        {
          "output_type": "stream",
          "name": "stdout",
          "text": [
            "# # #\n",
            "# # # #\n",
            "# # #\n",
            "##\n"
          ]
        }
      ]
    }
  ]
}