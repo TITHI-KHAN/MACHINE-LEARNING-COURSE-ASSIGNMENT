{
  "nbformat": 4,
  "nbformat_minor": 0,
  "metadata": {
    "colab": {
      "provenance": []
    },
    "kernelspec": {
      "name": "python3",
      "display_name": "Python 3"
    },
    "language_info": {
      "name": "python"
    }
  },
  "cells": [
    {
      "cell_type": "markdown",
      "source": [
        "Change the value of a key in a given dictionary.\n",
        "Write a Python program to change ‘age’ to 28 in the following dictionary.\n",
        "Dict = { \"name\": \"Shakil\", \"age\":27, \"city\": “Berlin”, \"country\": \"Germany\" }"
      ],
      "metadata": {
        "id": "VwspcAaQ-2dV"
      }
    },
    {
      "cell_type": "code",
      "source": [
        "Dict = { 'name': 'Shakil', 'age':27, 'city': 'Berlin', 'country': 'Germany' }\n",
        "print('Original Dictionary:', Dict)\n",
        "\n",
        "Dict['age']= 28\n",
        "print('Updated Dictionary:', Dict)"
      ],
      "metadata": {
        "colab": {
          "base_uri": "https://localhost:8080/"
        },
        "id": "OSwVeBPU-3h8",
        "outputId": "58669730-f8ce-4107-ffbc-a31277dbe6c1"
      },
      "execution_count": 3,
      "outputs": [
        {
          "output_type": "stream",
          "name": "stdout",
          "text": [
            "Original Dictionary: {'name': 'Shakil', 'age': 27, 'city': 'Berlin', 'country': 'Germany'}\n",
            "Updated Dictionary: {'name': 'Shakil', 'age': 28, 'city': 'Berlin', 'country': 'Germany'}\n"
          ]
        }
      ]
    }
  ]
}