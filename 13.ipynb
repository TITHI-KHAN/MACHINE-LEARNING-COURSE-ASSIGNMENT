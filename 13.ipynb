{
  "nbformat": 4,
  "nbformat_minor": 0,
  "metadata": {
    "colab": {
      "provenance": []
    },
    "kernelspec": {
      "name": "python3",
      "display_name": "Python 3"
    },
    "language_info": {
      "name": "python"
    }
  },
  "cells": [
    {
      "cell_type": "markdown",
      "source": [
        "Find the intersection (common) of two sets.\n",
        "S1 = {1,4,6,8}\n",
        "S2 = {True, 1,2,10}"
      ],
      "metadata": {
        "id": "R-arU5En2rkW"
      }
    },
    {
      "cell_type": "code",
      "source": [
        "S1 = {1,4,6,8} \n",
        "S2 = {True, 1,2,10}\n",
        "\n",
        "# Using Intersection Method\n",
        "\n",
        "common=S1.intersection(S2)\n",
        "common_int= {int(x) for x in common} # Convert the elements to integers\n",
        "print(common_int)\n",
        "\n",
        "#Using & Operator\n",
        "common = S1 & S2\n",
        "common_int= {int(x) for x in common} # Convert the elements to integers\n",
        "print(common_int)"
      ],
      "metadata": {
        "colab": {
          "base_uri": "https://localhost:8080/"
        },
        "id": "NG0VaFEX2sr1",
        "outputId": "3da0c262-d541-4f76-f357-b6c74e04b0ef"
      },
      "execution_count": 11,
      "outputs": [
        {
          "output_type": "stream",
          "name": "stdout",
          "text": [
            "{1}\n",
            "{1}\n"
          ]
        }
      ]
    }
  ]
}