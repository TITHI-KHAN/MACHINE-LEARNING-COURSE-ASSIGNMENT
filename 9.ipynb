{
  "nbformat": 4,
  "nbformat_minor": 0,
  "metadata": {
    "colab": {
      "provenance": []
    },
    "kernelspec": {
      "name": "python3",
      "display_name": "Python 3"
    },
    "language_info": {
      "name": "python"
    }
  },
  "cells": [
    {
      "cell_type": "markdown",
      "source": [
        "Reverse a given integer number 27956240710."
      ],
      "metadata": {
        "id": "c--LJDgpkZNS"
      }
    },
    {
      "cell_type": "code",
      "source": [
        "num=27956240710\n",
        "# Convert number to string, reverse it using slicing, and convert back to int\n",
        "reverse_num= int(str(num)[::-1])\n",
        "print('The reversed number is:', reverse_num)\n"
      ],
      "metadata": {
        "colab": {
          "base_uri": "https://localhost:8080/"
        },
        "id": "vmAVNdWrkfHB",
        "outputId": "bfa85e11-baf9-4bab-a3a0-1f0a4327e198"
      },
      "execution_count": 3,
      "outputs": [
        {
          "output_type": "stream",
          "name": "stdout",
          "text": [
            "The reversed number is: 1704265972\n"
          ]
        }
      ]
    }
  ]
}