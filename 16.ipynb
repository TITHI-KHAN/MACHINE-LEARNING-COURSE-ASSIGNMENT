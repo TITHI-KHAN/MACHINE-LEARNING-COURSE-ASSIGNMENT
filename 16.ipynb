{
  "nbformat": 4,
  "nbformat_minor": 0,
  "metadata": {
    "colab": {
      "provenance": []
    },
    "kernelspec": {
      "name": "python3",
      "display_name": "Python 3"
    },
    "language_info": {
      "name": "python"
    }
  },
  "cells": [
    {
      "cell_type": "markdown",
      "source": [
        "Creating a data frame using the list.\n",
        "num = [10,100,300] (column name is number)"
      ],
      "metadata": {
        "id": "3axURLi19bqi"
      }
    },
    {
      "cell_type": "code",
      "source": [
        "import pandas as pd\n",
        "data= {'number':[10,100,300]}\n",
        "df=pd.DataFrame(data)\n",
        "print(df)\n",
        "\n"
      ],
      "metadata": {
        "colab": {
          "base_uri": "https://localhost:8080/"
        },
        "id": "Sq0GVQDH9eXs",
        "outputId": "75324bfc-1653-406d-cfd6-06219539f7e9"
      },
      "execution_count": 3,
      "outputs": [
        {
          "output_type": "stream",
          "name": "stdout",
          "text": [
            "   number\n",
            "0      10\n",
            "1     100\n",
            "2     300\n"
          ]
        }
      ]
    }
  ]
}