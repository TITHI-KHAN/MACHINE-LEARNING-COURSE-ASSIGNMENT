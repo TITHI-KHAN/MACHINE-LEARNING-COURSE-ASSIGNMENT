{
  "nbformat": 4,
  "nbformat_minor": 0,
  "metadata": {
    "colab": {
      "provenance": []
    },
    "kernelspec": {
      "name": "python3",
      "display_name": "Python 3"
    },
    "language_info": {
      "name": "python"
    }
  },
  "cells": [
    {
      "cell_type": "markdown",
      "source": [
        "Display the Fibonacci series of 15 elements using the for and while loop."
      ],
      "metadata": {
        "id": "VUtwo00b0emx"
      }
    },
    {
      "cell_type": "code",
      "source": [
        "a,b=0,1\n",
        "for i in range(15):\n",
        "  print(a, end=\" \")\n",
        "  a,b=b,a+b"
      ],
      "metadata": {
        "colab": {
          "base_uri": "https://localhost:8080/"
        },
        "id": "PlYH5mJJ0f1F",
        "outputId": "e3f3f4ef-8783-481d-ab04-becc49838684"
      },
      "execution_count": 3,
      "outputs": [
        {
          "output_type": "stream",
          "name": "stdout",
          "text": [
            "0 1 1 2 3 5 8 13 21 34 55 89 144 233 377 "
          ]
        }
      ]
    },
    {
      "cell_type": "code",
      "source": [
        "a,b=0,1\n",
        "i=0\n",
        "while i<15:\n",
        "  print(a, end=\" \")\n",
        "  a,b=b,a+b\n",
        "  i=i+1"
      ],
      "metadata": {
        "colab": {
          "base_uri": "https://localhost:8080/"
        },
        "id": "4NlIZ_5D01nI",
        "outputId": "e1d52e07-f1d0-4293-b5cd-84797bfdc377"
      },
      "execution_count": 3,
      "outputs": [
        {
          "output_type": "stream",
          "name": "stdout",
          "text": [
            "0 1 1 2 3 5 8 13 21 34 55 89 144 233 377 "
          ]
        }
      ]
    }
  ]
}