{
  "nbformat": 4,
  "nbformat_minor": 0,
  "metadata": {
    "colab": {
      "provenance": []
    },
    "kernelspec": {
      "name": "python3",
      "display_name": "Python 3"
    },
    "language_info": {
      "name": "python"
    }
  },
  "cells": [
    {
      "cell_type": "markdown",
      "source": [
        "A school has the following rules for the grading system:\n",
        "Below 25 – F, 25 to 44 – E, 45 to 49 – D, 50 to 59 – C, 60 to 79 – B, 80 to 89 - A, Above 90 - A+\n",
        "Now, Ask the user to enter marks and print the corresponding grade."
      ],
      "metadata": {
        "id": "OA57wktlrMuy"
      }
    },
    {
      "cell_type": "code",
      "source": [
        "grade=int(input('Enter the marks: '))\n",
        "\n",
        "if grade<25:\n",
        "  print('F')\n",
        "elif grade>=25 and grade<=44:\n",
        "  print('E')\n",
        "elif grade>=45 and grade<=49:\n",
        "  print('D')\n",
        "elif grade>=50 and grade<=59:\n",
        "  print('C')\n",
        "elif grade>=60 and grade<=79:\n",
        "  print('B')\n",
        "elif grade>=80 and grade<=89:\n",
        "  print('A')\n",
        "elif grade>90:\n",
        "  print('A+')\n",
        "  "
      ],
      "metadata": {
        "colab": {
          "base_uri": "https://localhost:8080/"
        },
        "id": "WR7PomjWrOGx",
        "outputId": "eb87373a-47ba-4ef2-f415-ea8d2a172080"
      },
      "execution_count": 7,
      "outputs": [
        {
          "output_type": "stream",
          "name": "stdout",
          "text": [
            "Enter the marks: 82\n",
            "A\n"
          ]
        }
      ]
    }
  ]
}