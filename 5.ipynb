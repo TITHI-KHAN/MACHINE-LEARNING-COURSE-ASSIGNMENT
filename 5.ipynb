{
  "nbformat": 4,
  "nbformat_minor": 0,
  "metadata": {
    "colab": {
      "provenance": []
    },
    "kernelspec": {
      "name": "python3",
      "display_name": "Python 3"
    },
    "language_info": {
      "name": "python"
    }
  },
  "cells": [
    {
      "cell_type": "markdown",
      "source": [
        "Print the following pattern using for and while loop.\n",
        "1 2 3 4 5 6 7\n",
        "1 2 3 4 5 6\n",
        "1 2 3 4 5\n",
        "1 2 3 4"
      ],
      "metadata": {
        "id": "zaFIAruxsshE"
      }
    },
    {
      "cell_type": "code",
      "source": [
        "for i in range(7,3,-1):\n",
        "  for j in range(1,i+1,1):\n",
        "    print(j, end=\" \")\n",
        "  print()\n",
        " "
      ],
      "metadata": {
        "colab": {
          "base_uri": "https://localhost:8080/"
        },
        "id": "v_ya31HJstuu",
        "outputId": "d877738a-fdc2-4152-f102-fca38b95a6fb"
      },
      "execution_count": 21,
      "outputs": [
        {
          "output_type": "stream",
          "name": "stdout",
          "text": [
            "1 2 3 4 5 6 7 \n",
            "1 2 3 4 5 6 \n",
            "1 2 3 4 5 \n",
            "1 2 3 4 \n"
          ]
        }
      ]
    }
  ]
}