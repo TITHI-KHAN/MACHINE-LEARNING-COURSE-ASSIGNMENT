{
  "nbformat": 4,
  "nbformat_minor": 0,
  "metadata": {
    "colab": {
      "provenance": []
    },
    "kernelspec": {
      "name": "python3",
      "display_name": "Python 3"
    },
    "language_info": {
      "name": "python"
    }
  },
  "cells": [
    {
      "cell_type": "markdown",
      "source": [
        "Take values of the length & breadth of a rectangle from user input and check if it is square or not.\n"
      ],
      "metadata": {
        "id": "QWA0KOv2kRXW"
      }
    },
    {
      "cell_type": "code",
      "source": [
        "print(\"Take Value of Length: \")\n",
        "length = input()\n",
        "\n",
        "print(\"Take Value of Breadth: \")\n",
        "breadth = input()\n",
        "\n",
        "if length == breadth:\n",
        "  print(\"Square\")\n",
        "else:\n",
        "  print(\"Not Square\")"
      ],
      "metadata": {
        "colab": {
          "base_uri": "https://localhost:8080/"
        },
        "id": "hq7uwV4rkU02",
        "outputId": "44a7ded2-2b5e-4ee0-ee39-e31068adc45d"
      },
      "execution_count": 7,
      "outputs": [
        {
          "output_type": "stream",
          "name": "stdout",
          "text": [
            "Take Value of Length: \n",
            "5\n",
            "Take Value of Breadth: \n",
            "5\n",
            "Square\n"
          ]
        }
      ]
    }
  ]
}