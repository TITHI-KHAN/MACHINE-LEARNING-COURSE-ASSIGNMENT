{
  "nbformat": 4,
  "nbformat_minor": 0,
  "metadata": {
    "colab": {
      "provenance": []
    },
    "kernelspec": {
      "name": "python3",
      "display_name": "Python 3"
    },
    "language_info": {
      "name": "python"
    }
  },
  "cells": [
    {
      "cell_type": "markdown",
      "source": [
        "A student will not be allowed to sit in an exam if his/her attendance is less than 75%."
      ],
      "metadata": {
        "id": "pW8gjhB1qWYp"
      }
    },
    {
      "cell_type": "code",
      "source": [
        "att=float(input('Enter the value of attendance percentage: '))\n",
        "\n",
        "if att<75:\n",
        "  print('Not allowed to sit for exam.')\n",
        "else:\n",
        "  print('Allowed to sit for exam.')"
      ],
      "metadata": {
        "colab": {
          "base_uri": "https://localhost:8080/"
        },
        "id": "NBy2GO42qXLs",
        "outputId": "f35aaa92-452d-418c-c0b3-400dd1471523"
      },
      "execution_count": 2,
      "outputs": [
        {
          "output_type": "stream",
          "name": "stdout",
          "text": [
            "Enter the value of attendance percentage: 98\n",
            "Allowed to sit for exam.\n"
          ]
        }
      ]
    }
  ]
}