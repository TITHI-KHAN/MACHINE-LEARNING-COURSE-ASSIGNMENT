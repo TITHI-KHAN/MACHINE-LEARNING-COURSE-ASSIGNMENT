{
  "nbformat": 4,
  "nbformat_minor": 0,
  "metadata": {
    "colab": {
      "provenance": []
    },
    "kernelspec": {
      "name": "python3",
      "display_name": "Python 3"
    },
    "language_info": {
      "name": "python"
    }
  },
  "cells": [
    {
      "cell_type": "markdown",
      "source": [
        "Write a program to sum all prime numbers within a range of 10 to 1000."
      ],
      "metadata": {
        "id": "l_JNeY091MWD"
      }
    },
    {
      "cell_type": "code",
      "source": [
        "def prime(num): \n",
        "  #checks if a number is a prime\n",
        "  if num<2:\n",
        "    return False\n",
        "  for i in range(2, int (num**0.5)+1):\n",
        "    if num%i==0:\n",
        "        return False\n",
        "  return True\n",
        "\n",
        "sum = 0\n",
        "for num in range(10,1001):\n",
        "  if prime(num):\n",
        "    sum=sum+num\n",
        "\n",
        "print(\"Sum is \", sum)"
      ],
      "metadata": {
        "colab": {
          "base_uri": "https://localhost:8080/"
        },
        "id": "EfIFNEO91Nfh",
        "outputId": "d46026c3-d2da-4b3c-eaf5-340721aff3ab"
      },
      "execution_count": 10,
      "outputs": [
        {
          "output_type": "stream",
          "name": "stdout",
          "text": [
            "Sum is  76110\n"
          ]
        }
      ]
    }
  ]
}