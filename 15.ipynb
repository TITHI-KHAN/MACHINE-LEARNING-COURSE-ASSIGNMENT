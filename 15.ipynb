{
  "nbformat": 4,
  "nbformat_minor": 0,
  "metadata": {
    "colab": {
      "provenance": []
    },
    "kernelspec": {
      "name": "python3",
      "display_name": "Python 3"
    },
    "language_info": {
      "name": "python"
    }
  },
  "cells": [
    {
      "cell_type": "markdown",
      "source": [
        "Rename the key of a dictionary.\n",
        "Dict = { \"name\": \"Shakil\", \"age\":27, \"city\": “Berlin”, \"country\": \"Germany\" }\n",
        "Write a program to rename a key ‘country’ to a ‘region’ in the following dictionary."
      ],
      "metadata": {
        "id": "tM2RZEJi8CMu"
      }
    },
    {
      "cell_type": "code",
      "source": [
        "Dict = { 'name': 'Shakil', 'age':27, 'city': 'Berlin', 'country': 'Germany' } \n",
        "\n",
        "print('Original Dictionary:', Dict)\n",
        "\n",
        "Dict['region']=Dict.pop('country')\n",
        "\n",
        "print(\"Updated Dictionary:\", Dict)"
      ],
      "metadata": {
        "colab": {
          "base_uri": "https://localhost:8080/"
        },
        "id": "ZkmT4JeM8DGt",
        "outputId": "b3fd58c5-eff2-4b6b-bce0-5b3bcd91af62"
      },
      "execution_count": 8,
      "outputs": [
        {
          "output_type": "stream",
          "name": "stdout",
          "text": [
            "Original Dictionary: {'name': 'Shakil', 'age': 27, 'city': 'Berlin', 'country': 'Germany'}\n",
            "Updated Dictionary: {'name': 'Shakil', 'age': 27, 'city': 'Berlin', 'region': 'Germany'}\n"
          ]
        }
      ]
    }
  ]
}