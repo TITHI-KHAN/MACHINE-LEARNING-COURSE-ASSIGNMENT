{
  "nbformat": 4,
  "nbformat_minor": 0,
  "metadata": {
    "colab": {
      "provenance": []
    },
    "kernelspec": {
      "name": "python3",
      "display_name": "Python 3"
    },
    "language_info": {
      "name": "python"
    }
  },
  "cells": [
    {
      "cell_type": "markdown",
      "source": [
        "Take three integer values from the user and print the greatest among them."
      ],
      "metadata": {
        "id": "qf06ekeRoNVp"
      }
    },
    {
      "cell_type": "code",
      "source": [
        "print('Enter the Value of the First Integer:')\n",
        "num1=int(input())\n",
        "print('Enter the Value of the Second Integer:')\n",
        "num2=int(input())\n",
        "print('Enter the Value of the Third Integer:')\n",
        "num3=int(input())\n",
        "\n",
        "if num1>num2 and num1>num3:\n",
        "  print('Num1 is the greatest.')\n",
        "elif num2>num1 and num2>num3:\n",
        "  print('Num2 is the greatest.')\n",
        "else:\n",
        "  print('Num3 is the greatest.')"
      ],
      "metadata": {
        "colab": {
          "base_uri": "https://localhost:8080/"
        },
        "id": "iPP91vxPoPf5",
        "outputId": "c12b4d48-a264-4ef1-d1fb-bf37a761a449"
      },
      "execution_count": 7,
      "outputs": [
        {
          "output_type": "stream",
          "name": "stdout",
          "text": [
            "Enter the Value of the First Integer:\n",
            "8\n",
            "Enter the Value of the Second Integer:\n",
            "12\n",
            "Enter the Value of the Third Integer:\n",
            "2\n",
            "Num2 is the greatest.\n"
          ]
        }
      ]
    }
  ]
}