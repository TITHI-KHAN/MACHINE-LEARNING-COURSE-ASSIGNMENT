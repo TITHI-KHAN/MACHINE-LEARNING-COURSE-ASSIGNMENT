{
  "nbformat": 4,
  "nbformat_minor": 0,
  "metadata": {
    "colab": {
      "provenance": []
    },
    "kernelspec": {
      "name": "python3",
      "display_name": "Python 3"
    },
    "language_info": {
      "name": "python"
    }
  },
  "cells": [
    {
      "cell_type": "markdown",
      "source": [
        "Find the factorial of an n! (Hint, n=7: 7*6*5*4*3*2*1)."
      ],
      "metadata": {
        "id": "ncR6YdHNfERE"
      }
    },
    {
      "cell_type": "code",
      "source": [
        "print('Enter the value of n: ')\n",
        "n=int(input())\n",
        "\n",
        "fact=1\n",
        "\n",
        "for i in range(n,0,-1):\n",
        "  fact=fact*i\n",
        "print('The factorial is:',fact)"
      ],
      "metadata": {
        "colab": {
          "base_uri": "https://localhost:8080/"
        },
        "id": "y8gmD8_sfFxi",
        "outputId": "ffd0f5cf-44be-4fcf-c0f3-7cf0c64f5912"
      },
      "execution_count": 5,
      "outputs": [
        {
          "output_type": "stream",
          "name": "stdout",
          "text": [
            "Enter the value of n: \n",
            "7\n",
            "The factorial is: 5040\n"
          ]
        }
      ]
    }
  ]
}