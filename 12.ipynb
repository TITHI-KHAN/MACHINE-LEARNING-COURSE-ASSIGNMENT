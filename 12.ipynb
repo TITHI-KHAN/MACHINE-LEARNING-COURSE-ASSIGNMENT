{
  "nbformat": 4,
  "nbformat_minor": 0,
  "metadata": {
    "colab": {
      "provenance": []
    },
    "kernelspec": {
      "name": "python3",
      "display_name": "Python 3"
    },
    "language_info": {
      "name": "python"
    }
  },
  "cells": [
    {
      "cell_type": "markdown",
      "source": [
        "Remove 2 and add 3 to the list and replace True with False.\n",
        "Li = [1,3,5, [2,3], True]\n",
        "Output = [1,3,5, [3,3], False]"
      ],
      "metadata": {
        "id": "xvSxmE-q1jcI"
      }
    },
    {
      "cell_type": "code",
      "source": [
        " Li = [1,3,5, [2,3], True]\n",
        "\n",
        " Li[3][0]=3\n",
        " Li[4]=False\n",
        " #Li[-1]=False\n",
        "\n",
        " print(Li)"
      ],
      "metadata": {
        "colab": {
          "base_uri": "https://localhost:8080/"
        },
        "id": "-n9aMew_1oAG",
        "outputId": "dba2eb7e-6e7e-4717-ce37-c16b359d3a2d"
      },
      "execution_count": 3,
      "outputs": [
        {
          "output_type": "stream",
          "name": "stdout",
          "text": [
            "[1, 3, 5, [3, 3], False]\n"
          ]
        }
      ]
    }
  ]
}