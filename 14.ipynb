{
  "nbformat": 4,
  "nbformat_minor": 0,
  "metadata": {
    "colab": {
      "provenance": []
    },
    "kernelspec": {
      "name": "python3",
      "display_name": "Python 3"
    },
    "language_info": {
      "name": "python"
    }
  },
  "cells": [
    {
      "cell_type": "markdown",
      "source": [
        "Input a list from the user then Remove duplicates from a list and create a set and find the max\n",
        "number. User_input = [1,9,3,4,5,200,54]"
      ],
      "metadata": {
        "id": "2AhsV7We6ahn"
      }
    },
    {
      "cell_type": "code",
      "source": [
        "num=input('Input a list separated by comma: ')\n",
        "num_list={int(x) for x in num. split(',')}\n",
        "\n",
        "unique_num=set(num_list)\n",
        "max_num=max(num_list)\n",
        "\n",
        "print('After removing the duplicates from the list:', unique_num)\n",
        "print('The max number from the list:', max_num)"
      ],
      "metadata": {
        "colab": {
          "base_uri": "https://localhost:8080/"
        },
        "id": "rBGkZiZ56dWU",
        "outputId": "ebbf81a1-6e66-4a5c-e486-97726a3ef75c"
      },
      "execution_count": 2,
      "outputs": [
        {
          "output_type": "stream",
          "name": "stdout",
          "text": [
            "Input a list separated by comma: 1,9,3,4,5,200,54\n",
            "After removing the duplicates from the list: {1, 3, 4, 5, 54, 200, 9}\n",
            "The max number from the list: 200\n"
          ]
        }
      ]
    }
  ]
}